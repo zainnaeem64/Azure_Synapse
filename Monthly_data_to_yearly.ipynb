{
  "cells": [
    {
      "cell_type": "code",
      "source": [
        "\r\n",
        "%%pyspark\r\n",
        "df = spark.read.load('abfss://housepricing@datalakezain.dfs.core.windows.net/input/housing_in_london_monthly_variables.csv', format='csv'\r\n",
        "## If header exists uncomment line below\r\n",
        ", header=True\r\n",
        ")\r\n",
        "display(df.limit(15))"
      ],
      "outputs": [
        {
          "output_type": "display_data",
          "data": {
            "application/vnd.livy.statement-meta+json": {
              "spark_pool": "sparkpool",
              "session_id": "5",
              "statement_id": 3,
              "state": "finished",
              "livy_statement_state": "available",
              "queued_time": "2023-06-15T22:21:41.719379Z",
              "session_start_time": null,
              "execution_start_time": "2023-06-15T22:21:41.8755825Z",
              "execution_finish_time": "2023-06-15T22:21:56.8100074Z",
              "spark_jobs": null,
              "parent_msg_id": "c14eafb6-276b-44b1-91e5-be2f80ff3b1e"
            },
            "text/plain": "StatementMeta(sparkpool, 5, 3, Finished, Available)"
          },
          "metadata": {}
        },
        {
          "output_type": "display_data",
          "data": {
            "application/vnd.synapse.widget-view+json": {
              "widget_id": "d0104ca8-b33b-4361-b24b-b84ce827b491",
              "widget_type": "Synapse.DataFrame"
            },
            "text/plain": "SynapseWidget(Synapse.DataFrame, d0104ca8-b33b-4361-b24b-b84ce827b491)"
          },
          "metadata": {}
        }
      ],
      "execution_count": 2,
      "metadata": {
        "microsoft": {
          "language": "python"
        },
        "collapsed": false
      }
    },
    {
      "cell_type": "code",
      "source": [
        "import pyspark.sql.functions as f\r\n",
        "from pyspark.sql.types import *\r\n",
        "\r\n",
        "\r\n",
        "## Adding year column\r\n",
        "df=df.withColumn('years',f.year(f.to_timestamp('date', 'yyyy-MM-dd')))\r\n",
        "\r\n",
        "\r\n",
        "df.printSchema()\r\n",
        "\r\n",
        "## Changing data type of coloums\r\n",
        "df=df.withColumn('houses_sold',df['houses_sold'].cast(FloatType()))\r\n",
        "df=df.withColumn('average_price',df['average_price'].cast(FloatType()))\r\n",
        "\r\n",
        "df.printSchema()\r\n"
      ],
      "outputs": [
        {
          "output_type": "display_data",
          "data": {
            "application/vnd.livy.statement-meta+json": {
              "spark_pool": "sparkpool",
              "session_id": "5",
              "statement_id": 28,
              "state": "finished",
              "livy_statement_state": "available",
              "queued_time": "2023-06-15T22:45:41.961655Z",
              "session_start_time": null,
              "execution_start_time": "2023-06-15T22:45:42.1156292Z",
              "execution_finish_time": "2023-06-15T22:45:42.3102695Z",
              "spark_jobs": null,
              "parent_msg_id": "1720a4fe-5ebd-487f-909b-4474321c9966"
            },
            "text/plain": "StatementMeta(sparkpool, 5, 28, Finished, Available)"
          },
          "metadata": {}
        },
        {
          "output_type": "stream",
          "name": "stdout",
          "text": [
            "root\n |-- date: string (nullable = true)\n |-- area: string (nullable = true)\n |-- average_price: string (nullable = true)\n |-- code: string (nullable = true)\n |-- houses_sold: float (nullable = true)\n |-- no_of_crimes: string (nullable = true)\n |-- borough_flag: string (nullable = true)\n |-- years: integer (nullable = true)\n\nroot\n |-- date: string (nullable = true)\n |-- area: string (nullable = true)\n |-- average_price: float (nullable = true)\n |-- code: string (nullable = true)\n |-- houses_sold: float (nullable = true)\n |-- no_of_crimes: string (nullable = true)\n |-- borough_flag: string (nullable = true)\n |-- years: integer (nullable = true)\n\n"
          ]
        }
      ],
      "execution_count": 27,
      "metadata": {
        "jupyter": {
          "source_hidden": false,
          "outputs_hidden": false
        },
        "nteract": {
          "transient": {
            "deleting": false
          }
        }
      }
    },
    {
      "cell_type": "code",
      "source": [
        "##creating yearly data of houses sold \r\n",
        "\r\n",
        "yearly_data=df.groupby('years','area').sum('houses_sold')\r\n",
        "\r\n",
        "yearly_data.show(1)"
      ],
      "outputs": [
        {
          "output_type": "display_data",
          "data": {
            "application/vnd.livy.statement-meta+json": {
              "spark_pool": "sparkpool",
              "session_id": "5",
              "statement_id": 31,
              "state": "finished",
              "livy_statement_state": "available",
              "queued_time": "2023-06-15T22:47:23.3477983Z",
              "session_start_time": null,
              "execution_start_time": "2023-06-15T22:47:23.5278597Z",
              "execution_finish_time": "2023-06-15T22:47:26.4178185Z",
              "spark_jobs": null,
              "parent_msg_id": "281691ec-41fb-4422-9808-09ad6ea86fc8"
            },
            "text/plain": "StatementMeta(sparkpool, 5, 31, Finished, Available)"
          },
          "metadata": {}
        },
        {
          "output_type": "stream",
          "name": "stdout",
          "text": [
            "+-----+-----+----------------+\n|years| area|sum(houses_sold)|\n+-----+-----+----------------+\n| 1997|brent|          4249.0|\n+-----+-----+----------------+\nonly showing top 1 row\n\n"
          ]
        }
      ],
      "execution_count": 30,
      "metadata": {
        "jupyter": {
          "source_hidden": false,
          "outputs_hidden": false
        },
        "nteract": {
          "transient": {
            "deleting": false
          }
        }
      }
    },
    {
      "cell_type": "code",
      "source": [
        "## checking unique areas\r\n",
        "yearly_data.select('area').distinct().count()"
      ],
      "outputs": [
        {
          "output_type": "display_data",
          "data": {
            "application/vnd.livy.statement-meta+json": {
              "spark_pool": "sparkpool",
              "session_id": "5",
              "statement_id": 43,
              "state": "finished",
              "livy_statement_state": "available",
              "queued_time": "2023-06-15T23:04:36.2684771Z",
              "session_start_time": null,
              "execution_start_time": "2023-06-15T23:04:36.4246313Z",
              "execution_finish_time": "2023-06-15T23:04:36.9798027Z",
              "spark_jobs": null,
              "parent_msg_id": "e079163d-18a1-4a6d-9439-6cc06a80ee56"
            },
            "text/plain": "StatementMeta(sparkpool, 5, 43, Finished, Available)"
          },
          "metadata": {}
        },
        {
          "output_type": "execute_result",
          "execution_count": 87,
          "data": {
            "text/plain": "45"
          },
          "metadata": {}
        }
      ],
      "execution_count": 42,
      "metadata": {
        "jupyter": {
          "source_hidden": false,
          "outputs_hidden": false
        },
        "nteract": {
          "transient": {
            "deleting": false
          }
        }
      }
    },
    {
      "cell_type": "code",
      "source": [
        "##creating yearly data of average price\r\n",
        "\r\n",
        "yearly_data2=df.groupby('years','area').avg('average_price')\r\n",
        "yearly_data2.count()"
      ],
      "outputs": [
        {
          "output_type": "display_data",
          "data": {
            "application/vnd.livy.statement-meta+json": {
              "spark_pool": "sparkpool",
              "session_id": "5",
              "statement_id": 46,
              "state": "finished",
              "livy_statement_state": "available",
              "queued_time": "2023-06-15T23:09:24.8425268Z",
              "session_start_time": null,
              "execution_start_time": "2023-06-15T23:09:24.9723054Z",
              "execution_finish_time": "2023-06-15T23:09:25.5595856Z",
              "spark_jobs": null,
              "parent_msg_id": "2055de9b-271e-42e6-a9c4-a661576b191e"
            },
            "text/plain": "StatementMeta(sparkpool, 5, 46, Finished, Available)"
          },
          "metadata": {}
        },
        {
          "output_type": "execute_result",
          "execution_count": 93,
          "data": {
            "text/plain": "1170"
          },
          "metadata": {}
        }
      ],
      "execution_count": 45,
      "metadata": {
        "jupyter": {
          "source_hidden": false,
          "outputs_hidden": false
        },
        "nteract": {
          "transient": {
            "deleting": false
          }
        }
      }
    },
    {
      "cell_type": "code",
      "source": [
        "## joining 2 dataframes \r\n",
        "\r\n",
        "yearly_data=yearly_data2.join(yearly_data,['years','area'])"
      ],
      "outputs": [
        {
          "output_type": "display_data",
          "data": {
            "application/vnd.livy.statement-meta+json": {
              "spark_pool": "sparkpool",
              "session_id": "5",
              "statement_id": 49,
              "state": "finished",
              "livy_statement_state": "available",
              "queued_time": "2023-06-15T23:10:22.8155738Z",
              "session_start_time": null,
              "execution_start_time": "2023-06-15T23:10:22.9646113Z",
              "execution_finish_time": "2023-06-15T23:10:23.121891Z",
              "spark_jobs": null,
              "parent_msg_id": "d28b92e3-23b7-4459-8612-6643f30043f0"
            },
            "text/plain": "StatementMeta(sparkpool, 5, 49, Finished, Available)"
          },
          "metadata": {}
        }
      ],
      "execution_count": 48,
      "metadata": {
        "jupyter": {
          "source_hidden": false,
          "outputs_hidden": false
        },
        "nteract": {
          "transient": {
            "deleting": false
          }
        }
      }
    },
    {
      "cell_type": "code",
      "source": [
        "# Populate a temporary view so we can query from SQL\r\n",
        "yearly_data.createOrReplaceTempView(\"yearly_data\")\r\n"
      ],
      "outputs": [
        {
          "output_type": "display_data",
          "data": {
            "application/vnd.livy.statement-meta+json": {
              "spark_pool": "sparkpool",
              "session_id": "5",
              "statement_id": 51,
              "state": "finished",
              "livy_statement_state": "available",
              "queued_time": "2023-06-15T23:13:00.0598593Z",
              "session_start_time": null,
              "execution_start_time": "2023-06-15T23:13:00.2120873Z",
              "execution_finish_time": "2023-06-15T23:13:00.3753433Z",
              "spark_jobs": null,
              "parent_msg_id": "ed96dc3e-8aee-4ecb-900e-0e892fa8242c"
            },
            "text/plain": "StatementMeta(sparkpool, 5, 51, Finished, Available)"
          },
          "metadata": {}
        }
      ],
      "execution_count": 50,
      "metadata": {
        "jupyter": {
          "source_hidden": false,
          "outputs_hidden": false
        },
        "nteract": {
          "transient": {
            "deleting": false
          }
        }
      }
    },
    {
      "cell_type": "code",
      "source": [],
      "outputs": [],
      "execution_count": null,
      "metadata": {
        "jupyter": {
          "source_hidden": false,
          "outputs_hidden": false
        },
        "nteract": {
          "transient": {
            "deleting": false
          }
        },
        "microsoft": {},
        "collapsed": false
      }
    },
    {
      "cell_type": "code",
      "source": [
        "%%pyspark\r\n",
        "\r\n",
        "yearly_data.write.parquet('abfss://housepricing@datalakezain.dfs.core.windows.net/input/yearly_data'+'.parquet') \r\n",
        "\r\n"
      ],
      "outputs": [
        {
          "output_type": "display_data",
          "data": {
            "application/vnd.livy.statement-meta+json": {
              "spark_pool": "sparkpool",
              "session_id": "5",
              "statement_id": 58,
              "state": "finished",
              "livy_statement_state": "available",
              "queued_time": "2023-06-15T23:22:30.5296922Z",
              "session_start_time": null,
              "execution_start_time": "2023-06-15T23:22:30.6657225Z",
              "execution_finish_time": "2023-06-15T23:22:36.0542124Z",
              "spark_jobs": null,
              "parent_msg_id": "f66cc409-c798-420e-b737-4adf639438d9"
            },
            "text/plain": "StatementMeta(sparkpool, 5, 58, Finished, Available)"
          },
          "metadata": {}
        }
      ],
      "execution_count": 57,
      "metadata": {
        "jupyter": {
          "source_hidden": false,
          "outputs_hidden": false
        },
        "nteract": {
          "transient": {
            "deleting": false
          }
        },
        "microsoft": {
          "language": "python"
        }
      }
    },
    {
      "cell_type": "code",
      "source": [
        "a=spark.read.load('abfss://housepricing@datalakezain.dfs.core.windows.net/input/yearly_data.parquet', header=True)"
      ],
      "outputs": [
        {
          "output_type": "display_data",
          "data": {
            "application/vnd.livy.statement-meta+json": {
              "spark_pool": "sparkpool",
              "session_id": "5",
              "statement_id": 59,
              "state": "finished",
              "livy_statement_state": "available",
              "queued_time": "2023-06-15T23:24:17.0958536Z",
              "session_start_time": null,
              "execution_start_time": "2023-06-15T23:24:17.2340548Z",
              "execution_finish_time": "2023-06-15T23:24:17.8020495Z",
              "spark_jobs": null,
              "parent_msg_id": "b87968e5-b262-4302-b01b-d23e11ad5c0b"
            },
            "text/plain": "StatementMeta(sparkpool, 5, 59, Finished, Available)"
          },
          "metadata": {}
        }
      ],
      "execution_count": 58,
      "metadata": {
        "jupyter": {
          "source_hidden": false,
          "outputs_hidden": false
        },
        "nteract": {
          "transient": {
            "deleting": false
          }
        }
      }
    },
    {
      "cell_type": "code",
      "source": [
        "a.show(1)"
      ],
      "outputs": [
        {
          "output_type": "display_data",
          "data": {
            "application/vnd.livy.statement-meta+json": {
              "spark_pool": "sparkpool",
              "session_id": "5",
              "statement_id": 60,
              "state": "finished",
              "livy_statement_state": "available",
              "queued_time": "2023-06-15T23:24:26.0595124Z",
              "session_start_time": null,
              "execution_start_time": "2023-06-15T23:24:26.2054814Z",
              "execution_finish_time": "2023-06-15T23:24:29.1053733Z",
              "spark_jobs": null,
              "parent_msg_id": "bcb75f02-b11a-4827-abbe-9abaf6da854f"
            },
            "text/plain": "StatementMeta(sparkpool, 5, 60, Finished, Available)"
          },
          "metadata": {}
        },
        {
          "output_type": "stream",
          "name": "stdout",
          "text": [
            "+-----+-----+------------------+----------------+\n|years| area|avg(average_price)|sum(houses_sold)|\n+-----+-----+------------------+----------------+\n| 1997|brent| 86749.08333333333|          4249.0|\n+-----+-----+------------------+----------------+\nonly showing top 1 row\n\n"
          ]
        }
      ],
      "execution_count": 59,
      "metadata": {
        "jupyter": {
          "source_hidden": false,
          "outputs_hidden": false
        },
        "nteract": {
          "transient": {
            "deleting": false
          }
        }
      }
    }
  ],
  "metadata": {
    "language_info": {
      "name": "python"
    },
    "kernelspec": {
      "name": "synapse_pyspark",
      "language": "Python",
      "display_name": "Synapse PySpark"
    },
    "kernel_info": {
      "name": "synapse_pyspark"
    },
    "save_output": true,
    "synapse_widget": {
      "version": "0.1",
      "state": {
        "d0104ca8-b33b-4361-b24b-b84ce827b491": {
          "type": "Synapse.DataFrame",
          "sync_state": {
            "table": {
              "rows": [
                {
                  "0": "1995-01-01",
                  "1": "city of london",
                  "2": "91449",
                  "3": "E09000001",
                  "4": "17",
                  "6": "1"
                },
                {
                  "0": "1995-02-01",
                  "1": "city of london",
                  "2": "82203",
                  "3": "E09000001",
                  "4": "7",
                  "6": "1"
                },
                {
                  "0": "1995-03-01",
                  "1": "city of london",
                  "2": "79121",
                  "3": "E09000001",
                  "4": "14",
                  "6": "1"
                },
                {
                  "0": "1995-04-01",
                  "1": "city of london",
                  "2": "77101",
                  "3": "E09000001",
                  "4": "7",
                  "6": "1"
                },
                {
                  "0": "1995-05-01",
                  "1": "city of london",
                  "2": "84409",
                  "3": "E09000001",
                  "4": "10",
                  "6": "1"
                },
                {
                  "0": "1995-06-01",
                  "1": "city of london",
                  "2": "94901",
                  "3": "E09000001",
                  "4": "17",
                  "6": "1"
                },
                {
                  "0": "1995-07-01",
                  "1": "city of london",
                  "2": "110128",
                  "3": "E09000001",
                  "4": "13",
                  "6": "1"
                },
                {
                  "0": "1995-08-01",
                  "1": "city of london",
                  "2": "112329",
                  "3": "E09000001",
                  "4": "14",
                  "6": "1"
                },
                {
                  "0": "1995-09-01",
                  "1": "city of london",
                  "2": "104473",
                  "3": "E09000001",
                  "4": "17",
                  "6": "1"
                },
                {
                  "0": "1995-10-01",
                  "1": "city of london",
                  "2": "108038",
                  "3": "E09000001",
                  "4": "14",
                  "6": "1"
                },
                {
                  "0": "1995-11-01",
                  "1": "city of london",
                  "2": "117636",
                  "3": "E09000001",
                  "4": "11",
                  "6": "1"
                },
                {
                  "0": "1995-12-01",
                  "1": "city of london",
                  "2": "127232",
                  "3": "E09000001",
                  "4": "18",
                  "6": "1"
                },
                {
                  "0": "1996-01-01",
                  "1": "city of london",
                  "2": "108999",
                  "3": "E09000001",
                  "4": "17",
                  "6": "1"
                },
                {
                  "0": "1996-02-01",
                  "1": "city of london",
                  "2": "93357",
                  "3": "E09000001",
                  "4": "10",
                  "6": "1"
                },
                {
                  "0": "1996-03-01",
                  "1": "city of london",
                  "2": "93707",
                  "3": "E09000001",
                  "4": "17",
                  "6": "1"
                }
              ],
              "schema": [
                {
                  "key": "0",
                  "name": "date",
                  "type": "string"
                },
                {
                  "key": "1",
                  "name": "area",
                  "type": "string"
                },
                {
                  "key": "2",
                  "name": "average_price",
                  "type": "string"
                },
                {
                  "key": "3",
                  "name": "code",
                  "type": "string"
                },
                {
                  "key": "4",
                  "name": "houses_sold",
                  "type": "string"
                },
                {
                  "key": "5",
                  "name": "no_of_crimes",
                  "type": "string"
                },
                {
                  "key": "6",
                  "name": "borough_flag",
                  "type": "string"
                }
              ],
              "truncated": false
            },
            "isSummary": false,
            "language": "scala"
          },
          "persist_state": {
            "view": {
              "type": "details",
              "tableOptions": {},
              "chartOptions": {
                "chartType": "bar",
                "aggregationType": "count",
                "categoryFieldKeys": [
                  "0"
                ],
                "seriesFieldKeys": [
                  "0"
                ],
                "isStacked": false
              }
            }
          }
        }
      }
    }
  },
  "nbformat": 4,
  "nbformat_minor": 2
}