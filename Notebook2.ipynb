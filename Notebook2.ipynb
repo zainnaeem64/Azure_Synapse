{
  "cells": [
    {
      "cell_type": "code",
      "source": [
        "%%pyspark\r\n",
        "df = spark.read.load('abfss://housepricing@datalakezain.dfs.core.windows.net/input/housing_in_london_monthly_variables.csv', format='csv'\r\n",
        "## If header exists uncomment line below\r\n",
        ", header=True\r\n",
        ")"
      ],
      "outputs": [
        {
          "output_type": "display_data",
          "data": {
            "application/vnd.livy.statement-meta+json": {
              "spark_pool": "sparkpool",
              "session_id": "14",
              "statement_id": 35,
              "state": "finished",
              "livy_statement_state": "available",
              "queued_time": "2023-06-20T16:56:10.3675725Z",
              "session_start_time": null,
              "execution_start_time": "2023-06-20T16:56:10.5157976Z",
              "execution_finish_time": "2023-06-20T16:56:11.6300433Z",
              "spark_jobs": null,
              "parent_msg_id": "62af3d61-c374-4c24-8a8b-03d4c1a7dd5f"
            },
            "text/plain": "StatementMeta(sparkpool, 14, 35, Finished, Available)"
          },
          "metadata": {}
        }
      ],
      "execution_count": 34,
      "metadata": {
        "microsoft": {
          "language": "python"
        },
        "collapsed": false
      }
    },
    {
      "cell_type": "code",
      "source": [
        "from pyspark.sql.functions import col,expr,count,sum,when\r\n",
        "\r\n",
        "#changing col data type by using expr\r\n",
        "new_df=df.select(expr('cast(date as date)'),expr('area as area'),expr('cast(average_price as int) as ap'),df.code,\r\n",
        "expr('cast(houses_sold as int)'),expr('cast(borough_flag as boolean)'))\r\n",
        "\r\n",
        "#changing col data type by using selectexpr\r\n",
        "#new_df=df.selectExpr('cast(date as date)','area as a','cast(average_price as int) as ap','code',\r\n",
        "#'cast(houses_sold as int)','cast(borough_flag as boolean)')"
      ],
      "outputs": [
        {
          "output_type": "display_data",
          "data": {
            "application/vnd.livy.statement-meta+json": {
              "spark_pool": "sparkpool",
              "session_id": "14",
              "statement_id": 68,
              "state": "finished",
              "livy_statement_state": "available",
              "queued_time": "2023-06-20T17:34:44.074772Z",
              "session_start_time": null,
              "execution_start_time": "2023-06-20T17:34:44.2275612Z",
              "execution_finish_time": "2023-06-20T17:34:44.4007799Z",
              "spark_jobs": null,
              "parent_msg_id": "099458a5-a1b1-43bd-8529-1c000c9b3383"
            },
            "text/plain": "StatementMeta(sparkpool, 14, 68, Finished, Available)"
          },
          "metadata": {}
        }
      ],
      "execution_count": 67,
      "metadata": {
        "jupyter": {
          "source_hidden": false,
          "outputs_hidden": false
        },
        "nteract": {
          "transient": {
            "deleting": false
          }
        }
      }
    },
    {
      "cell_type": "code",
      "source": [
        "# dropping cols\r\n",
        "drop_col=new_df.drop(\"code\")"
      ],
      "outputs": [
        {
          "output_type": "display_data",
          "data": {
            "application/vnd.livy.statement-meta+json": {
              "spark_pool": "sparkpool",
              "session_id": "14",
              "statement_id": 69,
              "state": "finished",
              "livy_statement_state": "available",
              "queued_time": "2023-06-20T17:34:50.0078967Z",
              "session_start_time": null,
              "execution_start_time": "2023-06-20T17:34:50.1471147Z",
              "execution_finish_time": "2023-06-20T17:34:50.3833919Z",
              "spark_jobs": null,
              "parent_msg_id": "61e5b990-fc1f-4ee9-b988-5828378de854"
            },
            "text/plain": "StatementMeta(sparkpool, 14, 69, Finished, Available)"
          },
          "metadata": {}
        }
      ],
      "execution_count": 68,
      "metadata": {
        "jupyter": {
          "source_hidden": false,
          "outputs_hidden": false
        },
        "nteract": {
          "transient": {
            "deleting": false
          }
        }
      }
    },
    {
      "cell_type": "code",
      "source": [
        "# group by with where and having clause \r\n",
        "agg=new_df.select('ap','houses_sold').where(\"houses_sold<10\").groupBy('ap').agg(sum('houses_sold').alias('houses')).filter('houses < 5')"
      ],
      "outputs": [
        {
          "output_type": "display_data",
          "data": {
            "application/vnd.livy.statement-meta+json": {
              "spark_pool": "sparkpool",
              "session_id": "14",
              "statement_id": 70,
              "state": "finished",
              "livy_statement_state": "available",
              "queued_time": "2023-06-20T17:34:51.2818787Z",
              "session_start_time": null,
              "execution_start_time": "2023-06-20T17:34:51.4221638Z",
              "execution_finish_time": "2023-06-20T17:34:51.6115017Z",
              "spark_jobs": null,
              "parent_msg_id": "e88f64a9-fa68-4b9b-a26e-71a259536f69"
            },
            "text/plain": "StatementMeta(sparkpool, 14, 70, Finished, Available)"
          },
          "metadata": {}
        }
      ],
      "execution_count": 69,
      "metadata": {
        "jupyter": {
          "source_hidden": false,
          "outputs_hidden": false
        },
        "nteract": {
          "transient": {
            "deleting": false
          }
        }
      }
    },
    {
      "cell_type": "code",
      "source": [
        "# adding new column based on values of current column\r\n",
        "a=new_df.withColumn('is_active',when(col('borough_flag')==1,'yes').when(col('borough_flag')==0,'no').otherwise('No'))"
      ],
      "outputs": [
        {
          "output_type": "display_data",
          "data": {
            "application/vnd.livy.statement-meta+json": {
              "spark_pool": "sparkpool",
              "session_id": "14",
              "statement_id": 72,
              "state": "finished",
              "livy_statement_state": "available",
              "queued_time": "2023-06-20T17:36:03.7723891Z",
              "session_start_time": null,
              "execution_start_time": "2023-06-20T17:36:03.9163428Z",
              "execution_finish_time": "2023-06-20T17:36:04.0812956Z",
              "spark_jobs": null,
              "parent_msg_id": "845d0509-ad8c-4a8d-adc3-24ef3ee15436"
            },
            "text/plain": "StatementMeta(sparkpool, 14, 72, Finished, Available)"
          },
          "metadata": {}
        }
      ],
      "execution_count": 71,
      "metadata": {
        "jupyter": {
          "source_hidden": false,
          "outputs_hidden": false
        },
        "nteract": {
          "transient": {
            "deleting": false
          }
        }
      }
    },
    {
      "cell_type": "code",
      "source": [
        "from pyspark.sql.functions import regexp_replace,isnull,isnan\r\n",
        "\r\n",
        "# changing values with a column using regex\r\n",
        "regex_col=a.withColumn('City',regexp_replace(col('area'),\"city of l\",\"L\"))"
      ],
      "outputs": [
        {
          "output_type": "display_data",
          "data": {
            "application/vnd.livy.statement-meta+json": {
              "spark_pool": "sparkpool",
              "session_id": "14",
              "statement_id": 92,
              "state": "finished",
              "livy_statement_state": "available",
              "queued_time": "2023-06-20T18:03:39.1456135Z",
              "session_start_time": null,
              "execution_start_time": "2023-06-20T18:03:39.292055Z",
              "execution_finish_time": "2023-06-20T18:03:39.4775792Z",
              "spark_jobs": null,
              "parent_msg_id": "6e15be2b-ecaa-4a18-8548-b95b14e5c30b"
            },
            "text/plain": "StatementMeta(sparkpool, 14, 92, Finished, Available)"
          },
          "metadata": {}
        }
      ],
      "execution_count": 91,
      "metadata": {
        "jupyter": {
          "source_hidden": false,
          "outputs_hidden": false
        },
        "nteract": {
          "transient": {
            "deleting": false
          }
        }
      }
    },
    {
      "cell_type": "code",
      "source": [
        "df.filter(~ df.no_of_crimes.isNull()).show()"
      ],
      "outputs": [
        {
          "output_type": "display_data",
          "data": {
            "application/vnd.livy.statement-meta+json": {
              "spark_pool": "sparkpool",
              "session_id": "14",
              "statement_id": 108,
              "state": "finished",
              "livy_statement_state": "available",
              "queued_time": "2023-06-20T18:09:21.659859Z",
              "session_start_time": null,
              "execution_start_time": "2023-06-20T18:09:21.8040381Z",
              "execution_finish_time": "2023-06-20T18:09:22.3616955Z",
              "spark_jobs": null,
              "parent_msg_id": "54752d88-2ac0-41ab-b464-cc63c95b1b2e"
            },
            "text/plain": "StatementMeta(sparkpool, 14, 108, Finished, Available)"
          },
          "metadata": {}
        },
        {
          "output_type": "stream",
          "name": "stdout",
          "text": [
            "+----------+--------------+-------------+---------+-----------+------------+------------+\n|      date|          area|average_price|     code|houses_sold|no_of_crimes|borough_flag|\n+----------+--------------+-------------+---------+-----------+------------+------------+\n|2001-01-01|city of london|       284262|E09000001|         24|         0.0|           1|\n|2001-02-01|city of london|       198137|E09000001|         37|         0.0|           1|\n|2001-03-01|city of london|       189033|E09000001|         44|         0.0|           1|\n|2001-04-01|city of london|       205494|E09000001|         38|         0.0|           1|\n|2001-05-01|city of london|       223459|E09000001|         30|         0.0|           1|\n|2001-06-01|city of london|       242435|E09000001|         36|         0.0|           1|\n|2001-07-01|city of london|       230700|E09000001|         40|         0.0|           1|\n|2001-08-01|city of london|       231632|E09000001|         30|         0.0|           1|\n|2001-09-01|city of london|       229806|E09000001|         30|         0.0|           1|\n|2001-10-01|city of london|       263887|E09000001|         26|         0.0|           1|\n|2001-11-01|city of london|       346458|E09000001|         15|         0.0|           1|\n|2001-12-01|city of london|       362204|E09000001|         17|         0.0|           1|\n|2002-01-01|city of london|       344239|E09000001|         30|         0.0|           1|\n|2002-02-01|city of london|       284015|E09000001|         12|         0.0|           1|\n|2002-03-01|city of london|       253697|E09000001|         47|         0.0|           1|\n|2002-04-01|city of london|       245313|E09000001|         31|         0.0|           1|\n|2002-05-01|city of london|       227281|E09000001|         30|         0.0|           1|\n|2002-06-01|city of london|       253130|E09000001|         25|         0.0|           1|\n|2002-07-01|city of london|       262428|E09000001|         26|         0.0|           1|\n|2002-08-01|city of london|       274016|E09000001|         51|         0.0|           1|\n+----------+--------------+-------------+---------+-----------+------------+------------+\nonly showing top 20 rows\n\n"
          ]
        }
      ],
      "execution_count": 107,
      "metadata": {
        "jupyter": {
          "source_hidden": false,
          "outputs_hidden": false
        },
        "nteract": {
          "transient": {
            "deleting": false
          }
        }
      }
    },
    {
      "cell_type": "code",
      "source": [
        "from pyspark.sql.functions import row_number,desc\r\n",
        "from pyspark.sql.window import Window\r\n",
        "\r\n",
        "# checking most number of houses sold by each code using window\r\n",
        "\r\n",
        "w=Window.partitionBy(col('code')).orderBy(col('houses_sold').desc())\r\n",
        "rn=row_number().over(w)\r\n",
        "\r\n",
        "# selecting 2nd highest number of houses sold\r\n",
        "a=df.withColumn('rn',rn).where('rn==2')\r\n",
        "\r\n"
      ],
      "outputs": [
        {
          "output_type": "display_data",
          "data": {
            "application/vnd.livy.statement-meta+json": {
              "spark_pool": "sparkpool",
              "session_id": "14",
              "statement_id": 115,
              "state": "finished",
              "livy_statement_state": "available",
              "queued_time": "2023-06-20T18:41:44.1551476Z",
              "session_start_time": null,
              "execution_start_time": "2023-06-20T18:41:44.3070138Z",
              "execution_finish_time": "2023-06-20T18:41:44.479667Z",
              "spark_jobs": null,
              "parent_msg_id": "8041033a-41f1-4181-a889-e573b8198c32"
            },
            "text/plain": "StatementMeta(sparkpool, 14, 115, Finished, Available)"
          },
          "metadata": {}
        }
      ],
      "execution_count": 114,
      "metadata": {
        "jupyter": {
          "source_hidden": false,
          "outputs_hidden": false
        },
        "nteract": {
          "transient": {
            "deleting": false
          }
        }
      }
    },
    {
      "cell_type": "code",
      "source": [
        "a.show()"
      ],
      "outputs": [
        {
          "output_type": "display_data",
          "data": {
            "application/vnd.livy.statement-meta+json": {
              "spark_pool": "sparkpool",
              "session_id": "14",
              "statement_id": 116,
              "state": "finished",
              "livy_statement_state": "available",
              "queued_time": "2023-06-20T18:41:48.6977051Z",
              "session_start_time": null,
              "execution_start_time": "2023-06-20T18:41:48.8583141Z",
              "execution_finish_time": "2023-06-20T18:41:49.997562Z",
              "spark_jobs": null,
              "parent_msg_id": "b0f86a63-ef0f-4383-9155-e62ff094ac0c"
            },
            "text/plain": "StatementMeta(sparkpool, 14, 116, Finished, Available)"
          },
          "metadata": {}
        },
        {
          "output_type": "stream",
          "name": "stdout",
          "text": [
            "+----------+--------------------+-------------+---------+-----------+------------+------------+---+\n|      date|                area|average_price|     code|houses_sold|no_of_crimes|borough_flag| rn|\n+----------+--------------------+-------------+---------+-----------+------------+------------+---+\n|1999-12-01|      city of london|       169309|E09000001|         97|        null|           1|  2|\n|2013-03-01|barking and dagenham|       169414|E09000002|         96|      1449.0|           1|  2|\n|1999-07-01|              barnet|       136102|E09000003|        865|        null|           1|  2|\n|2002-05-01|              bexley|       131293|E09000004|        633|      1694.0|           1|  2|\n|2009-05-01|               brent|       261460|E09000005|         92|      2387.0|           1|  2|\n|2006-08-01|             bromley|       253406|E09000006|        856|      2144.0|           1|  2|\n|2009-02-01|              camden|       453141|E09000007|         89|      2458.0|           1|  2|\n|2002-05-01|             croydon|       151795|E09000008|        894|      3263.0|           1|  2|\n|2001-08-01|              ealing|       173686|E09000009|        678|      2760.0|           1|  2|\n|2002-07-01|             enfield|       159583|E09000010|        763|      2230.0|           1|  2|\n|2009-04-01|           greenwich|       205269|E09000011|         88|      2243.0|           1|  2|\n|2008-09-01|             hackney|       303298|E09000012|         83|      2404.0|           1|  2|\n|2009-03-01|hammersmith and f...|       408519|E09000013|         90|      1987.0|           1|  2|\n|2009-03-01|            haringey|       263609|E09000014|         94|      2318.0|           1|  2|\n|2009-02-01|              harrow|       262042|E09000015|         87|      1153.0|           1|  2|\n|2001-08-01|            havering|       126651|E09000016|        561|      1599.0|           1|  2|\n|1999-07-01|          hillingdon|       109614|E09000017|        626|        null|           1|  2|\n|2009-01-01|            hounslow|       234464|E09000018|         91|      1881.0|           1|  2|\n|1995-01-01|           islington|        92516|E09000019|         90|        null|           1|  2|\n|2009-02-01|kensington and ch...|       627150|E09000020|         95|      1462.0|           1|  2|\n+----------+--------------------+-------------+---------+-----------+------------+------------+---+\nonly showing top 20 rows\n\n"
          ]
        }
      ],
      "execution_count": 115,
      "metadata": {
        "jupyter": {
          "source_hidden": false,
          "outputs_hidden": false
        },
        "nteract": {
          "transient": {
            "deleting": false
          }
        }
      }
    },
    {
      "cell_type": "code",
      "source": [],
      "outputs": [],
      "execution_count": null,
      "metadata": {
        "jupyter": {
          "source_hidden": false,
          "outputs_hidden": false
        },
        "nteract": {
          "transient": {
            "deleting": false
          }
        }
      }
    }
  ],
  "metadata": {
    "language_info": {
      "name": "python"
    },
    "kernelspec": {
      "name": "synapse_pyspark",
      "language": "Python",
      "display_name": "Synapse PySpark"
    },
    "kernel_info": {
      "name": "synapse_pyspark"
    },
    "save_output": true,
    "synapse_widget": {
      "version": "0.1",
      "state": {}
    }
  },
  "nbformat": 4,
  "nbformat_minor": 2
}